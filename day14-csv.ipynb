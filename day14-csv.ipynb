{
 "cells": [
  {
   "cell_type": "code",
   "execution_count": 1,
   "metadata": {},
   "outputs": [],
   "source": [
    "import csv\n",
    "a = [1,'Akash',45,'Kathmandu']\n",
    "file = open('new_data.csv','w')\n",
    "x = csv.writer(file)\n",
    "x.writerow(a)\n",
    "file.close()"
   ]
  },
  {
   "cell_type": "code",
   "execution_count": 2,
   "metadata": {},
   "outputs": [],
   "source": [
    "import csv\n",
    "a = [[1,'Akash',45,'Kathmandu'],\n",
    "    [2,'Sanish',34,'Butwal'],\n",
    "    [3,'Sabin',56,'Bhaktapur']]\n",
    "file = open('new_data.csv','w')\n",
    "x = csv.writer(file)\n",
    "for i in a:\n",
    "    x.writerow(i)\n",
    "file.close()"
   ]
  },
  {
   "cell_type": "code",
   "execution_count": 17,
   "metadata": {},
   "outputs": [
    {
     "name": "stdout",
     "output_type": "stream",
     "text": [
      "{'1': '2', 'Akash': 'Sanish', '45': '34', 'Kathmandu': 'Butwal'}\n",
      "{'1': '3', 'Akash': 'Sabin', '45': '56', 'Kathmandu': 'Bhaktapur'}\n"
     ]
    }
   ],
   "source": [
    "import csv\n",
    "with open('new_data.csv') as csvfile:\n",
    "    reader = csv.DictReader(csvfile)\n",
    "    for row in reader:\n",
    "        print(row)"
   ]
  },
  {
   "cell_type": "code",
   "execution_count": 16,
   "metadata": {},
   "outputs": [],
   "source": [
    "import csv\n",
    "csv_columns = ['Name','Age','Address']\n",
    "dict = [\n",
    "        {'Name':'Subash','Age':23,'Address':'Kathmandu'},\n",
    "        {'Name':'Santosh','Age':24,'Address':'Bardiya'}\n",
    "]\n",
    "try:\n",
    "    with open(\"data1.csv\",'w') as csvfile:\n",
    "        writer = csv.DictWriter(csvfile,fieldnames=csv_columns)\n",
    "        writer.writeheader()\n",
    "        for data in dict:\n",
    "            writer.writerow(data)\n",
    "except IOError:\n",
    "    print(\"I/O error\")"
   ]
  },
  {
   "cell_type": "code",
   "execution_count": 13,
   "metadata": {},
   "outputs": [],
   "source": [
    "import csv\n",
    "info =[]\n",
    "csv_columns = ['name','age','address']\n",
    "n = int(input(\"enter n:\"))\n",
    "for i in range(n):\n",
    "    name = input(\"enter name:\")\n",
    "    age = int(input(\"enter age:\"))\n",
    "    address = input(\"enter address:\")\n",
    "\n",
    "    info.append({'name':name,'age':age,'address':address})\n",
    "\n",
    "try:\n",
    "    with open(\"data.csv\",'w') as csvfile:\n",
    "        writer = csv.DictWriter(csvfile,fieldnames=csv_columns)\n",
    "        writer.writeheader()\n",
    "        for data in info:\n",
    "            writer.writerow(data)\n",
    "except IOError:\n",
    "    print(\"I/O error\")"
   ]
  }
 ],
 "metadata": {
  "kernelspec": {
   "display_name": "Python 3.10.5 64-bit",
   "language": "python",
   "name": "python3"
  },
  "language_info": {
   "codemirror_mode": {
    "name": "ipython",
    "version": 3
   },
   "file_extension": ".py",
   "mimetype": "text/x-python",
   "name": "python",
   "nbconvert_exporter": "python",
   "pygments_lexer": "ipython3",
   "version": "3.10.5"
  },
  "orig_nbformat": 4,
  "vscode": {
   "interpreter": {
    "hash": "76d7c06053c3456e5600312cec90888656fc0ed30c03d8425b9dac6e4fc8e014"
   }
  }
 },
 "nbformat": 4,
 "nbformat_minor": 2
}
