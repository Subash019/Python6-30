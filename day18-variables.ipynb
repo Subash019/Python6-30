{
 "cells": [
  {
   "cell_type": "markdown",
   "metadata": {},
   "source": [
    "#pre-defined \n",
    "#user-defined\n",
    "\n",
    "#pre-defined functions:\n",
    "#print()\n",
    "#int()\n",
    "#float()\n",
    "#str()\n",
    "#list()\n",
    "#tuple()\n",
    "#dict()\n",
    "#set()"
   ]
  },
  {
   "cell_type": "code",
   "execution_count": null,
   "metadata": {},
   "outputs": [],
   "source": [
    "#def <function_name>():\n",
    "#    <operation>\n",
    "\n",
    "#<function_name>()"
   ]
  },
  {
   "cell_type": "code",
   "execution_count": null,
   "metadata": {},
   "outputs": [],
   "source": [
    "def hello():\n",
    "    print(\"Hello World\")\n",
    "    \n",
    "hello()"
   ]
  },
  {
   "cell_type": "code",
   "execution_count": null,
   "metadata": {},
   "outputs": [],
   "source": [
    "def cal():\n",
    "    l=int(input(\"enter length:\"))            #local variable\n",
    "    b=int(input(\"enter breadth:\"))           #local variable\n",
    "    a=l*b                                    #local variable\n",
    "    print(a)\n",
    "\n",
    "cal()"
   ]
  }
 ],
 "metadata": {
  "kernelspec": {
   "display_name": "Python 3.10.5 64-bit",
   "language": "python",
   "name": "python3"
  },
  "language_info": {
   "name": "python",
   "version": "3.10.5"
  },
  "orig_nbformat": 4,
  "vscode": {
   "interpreter": {
    "hash": "76d7c06053c3456e5600312cec90888656fc0ed30c03d8425b9dac6e4fc8e014"
   }
  }
 },
 "nbformat": 4,
 "nbformat_minor": 2
}
