{
 "cells": [
  {
   "cell_type": "code",
   "execution_count": 4,
   "metadata": {},
   "outputs": [
    {
     "name": "stdout",
     "output_type": "stream",
     "text": [
      "dd 44556\n",
      "ddff 556\n",
      "fff 5656\n",
      "\n"
     ]
    }
   ],
   "source": [
    "n = int(input(\"enter n=\"))\n",
    "s = str()\n",
    "i = 0\n",
    "while i<n:\n",
    "    name = input(\"enter name:\")\n",
    "    phone = input(\"enter phone number:\")\n",
    "    s = s+name+\" \"+phone+\"\\n\"\n",
    "    i = i+1\n",
    "print(s)"
   ]
  },
  {
   "cell_type": "code",
   "execution_count": 5,
   "metadata": {},
   "outputs": [
    {
     "name": "stdout",
     "output_type": "stream",
     "text": [
      "hello world\n",
      "hello world\n",
      "hello world\n"
     ]
    }
   ],
   "source": [
    "# break and continue statement\n",
    "\n",
    "i = 0\n",
    "while i<5:\n",
    "    if i == 3:\n",
    "        break\n",
    "    print (\"hello world\")\n",
    "    i = i+1\n",
    "    "
   ]
  },
  {
   "cell_type": "code",
   "execution_count": 1,
   "metadata": {},
   "outputs": [
    {
     "name": "stdout",
     "output_type": "stream",
     "text": [
      "0 hello world\n",
      "1 hello world\n",
      "2 hello world\n",
      "4 hello world\n"
     ]
    }
   ],
   "source": [
    "i = 0\n",
    "while i<5:\n",
    "    if i == 3:\n",
    "        i = i+1\n",
    "        continue\n",
    "    print (i,\"hello world\")\n",
    "    i = i+1\n",
    "    "
   ]
  },
  {
   "cell_type": "code",
   "execution_count": 4,
   "metadata": {},
   "outputs": [
    {
     "name": "stdout",
     "output_type": "stream",
     "text": [
      "this is composite number\n"
     ]
    }
   ],
   "source": [
    "#prime and composite\n",
    "n = int(input(\"enter n:\"))\n",
    "i = 2\n",
    "if n>=2:\n",
    "    while i<=n//2:\n",
    "        if n%i==0:\n",
    "            print(\"this is composite number\")\n",
    "            break\n",
    "        i=i+1\n",
    "    else:\n",
    "        print(\"this is prime number\")\n",
    "else:\n",
    "    print(\"the value of n should be greater or equal to 2\")"
   ]
  },
  {
   "cell_type": "code",
   "execution_count": 5,
   "metadata": {},
   "outputs": [
    {
     "name": "stdout",
     "output_type": "stream",
     "text": [
      "s\n",
      "u\n",
      "b\n",
      "a\n",
      "s\n",
      "h\n"
     ]
    }
   ],
   "source": [
    "#while loop in string\n",
    "a = \"subash\"\n",
    "l = len(a)\n",
    "i = 0\n",
    "while i<l:\n",
    "    print (a[i])\n",
    "    i = i+1"
   ]
  },
  {
   "cell_type": "code",
   "execution_count": 7,
   "metadata": {},
   "outputs": [
    {
     "name": "stdout",
     "output_type": "stream",
     "text": [
      "H e l l o w o r l d i a m s u b a s h "
     ]
    }
   ],
   "source": [
    "a = \"Hello world i am subash\"\n",
    "l = len(a)\n",
    "i = 0\n",
    "while i<l:\n",
    "    if a[i]==\" \":\n",
    "        i=i+1\n",
    "        continue\n",
    "    print (a[i],end =\" \")\n",
    "    i = i+1"
   ]
  },
  {
   "cell_type": "markdown",
   "metadata": {},
   "source": [
    "WOP to create a billing system using for or while loop\n",
    "name\n",
    "price\n",
    "quantity\n",
    "total\n",
    "grand total"
   ]
  },
  {
   "cell_type": "code",
   "execution_count": 1,
   "metadata": {},
   "outputs": [
    {
     "name": "stdout",
     "output_type": "stream",
     "text": [
      "name =ddsf price =33 quantity =4 total =132\n",
      "name =dffdf price =55 quantity =6 total =330\n",
      "\n",
      "grand total = 462\n"
     ]
    }
   ],
   "source": [
    "grand_total = 0\n",
    "bills = str()\n",
    "n = int(input(\"enter total no of products:\"))\n",
    "for i in range(n):\n",
    "    name = input(\"enter product name:\")\n",
    "    price = int(input(\"enter the price\"))\n",
    "    quantity = int(input(\"enter the quantity\"))\n",
    "    total = price*quantity\n",
    "    grand_total = grand_total + total\n",
    "    bill = \"name =\"+name + \" \"+\"price =\"+str(price)+\" \"+\"quantity =\"+str(quantity)+\" \"+\"total =\"+str(total)+\"\\n\"\n",
    "    bills = bills+bill\n",
    "\n",
    "print(bills)\n",
    "print (\"grand total =\",grand_total)\n"
   ]
  },
  {
   "cell_type": "code",
   "execution_count": 8,
   "metadata": {},
   "outputs": [
    {
     "name": "stdout",
     "output_type": "stream",
     "text": [
      "h s a b u s "
     ]
    }
   ],
   "source": [
    "#reverse string\n",
    "\n",
    "rev = str(input(\"enter any string\"))\n",
    "l = len(rev)-1\n",
    "for i in range(l,-1,-1):\n",
    "    print(rev[i],end = \" \")\n",
    "    "
   ]
  },
  {
   "cell_type": "code",
   "execution_count": 37,
   "metadata": {},
   "outputs": [
    {
     "name": "stdout",
     "output_type": "stream",
     "text": [
      "h s a b u s "
     ]
    }
   ],
   "source": [
    "rev = str(input(\"enter any string\"))\n",
    "l = len(rev)-1\n",
    "i = -1\n",
    "while l>i:\n",
    "    print(rev[l],end = \" \")\n",
    "    l = l-1"
   ]
  },
  {
   "cell_type": "code",
   "execution_count": 38,
   "metadata": {},
   "outputs": [
    {
     "name": "stdout",
     "output_type": "stream",
     "text": [
      "0\n"
     ]
    }
   ],
   "source": [
    "#count\n",
    "\n",
    "a=\"python\"\n",
    "count = 0\n",
    "for i in range(1,len(a)):\n",
    "    if i=='p':\n",
    "        count  = count+1\n",
    "print(count)\n"
   ]
  },
  {
   "cell_type": "code",
   "execution_count": null,
   "metadata": {},
   "outputs": [],
   "source": []
  }
 ],
 "metadata": {
  "kernelspec": {
   "display_name": "Python 3.10.5 64-bit",
   "language": "python",
   "name": "python3"
  },
  "language_info": {
   "codemirror_mode": {
    "name": "ipython",
    "version": 3
   },
   "file_extension": ".py",
   "mimetype": "text/x-python",
   "name": "python",
   "nbconvert_exporter": "python",
   "pygments_lexer": "ipython3",
   "version": "3.10.5"
  },
  "orig_nbformat": 4,
  "vscode": {
   "interpreter": {
    "hash": "76d7c06053c3456e5600312cec90888656fc0ed30c03d8425b9dac6e4fc8e014"
   }
  }
 },
 "nbformat": 4,
 "nbformat_minor": 2
}
