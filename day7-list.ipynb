{
 "cells": [
  {
   "cell_type": "markdown",
   "metadata": {},
   "source": [
    "LIST\n",
    "-Indexing\n",
    "-ordered\n",
    "-multiple values\n",
    "-Mutable"
   ]
  },
  {
   "cell_type": "code",
   "execution_count": 2,
   "metadata": {},
   "outputs": [
    {
     "name": "stdout",
     "output_type": "stream",
     "text": [
      "['apple', 'ball', 'cat', 'dog', 'fish']\n",
      "ball\n",
      "5\n",
      "<class 'list'>\n",
      "dog\n"
     ]
    }
   ],
   "source": [
    "a=[]\n",
    "b=['apple','ball','cat','dog','fish']\n",
    "print(b)\n",
    "print(b[1])\n",
    "print(len(b))\n",
    "print(type(b))\n",
    "print(b[-2])"
   ]
  },
  {
   "cell_type": "code",
   "execution_count": 5,
   "metadata": {},
   "outputs": [
    {
     "name": "stdout",
     "output_type": "stream",
     "text": [
      "[1, 2, 3, 4, 'apple', 'ball', 'cat', 'dog', 'fish']\n",
      "[1, 2, 3, 4, 1, 2, 3, 4] ['apple', 'ball', 'cat', 'dog', 'fish', 'apple', 'ball', 'cat', 'dog', 'fish']\n"
     ]
    }
   ],
   "source": [
    "a=[1,2,3,4]\n",
    "b=['apple','ball','cat','dog','fish']\n",
    "c=a+b\n",
    "print (c)\n",
    "print(a*2,b*2)"
   ]
  },
  {
   "cell_type": "code",
   "execution_count": 9,
   "metadata": {},
   "outputs": [
    {
     "name": "stdout",
     "output_type": "stream",
     "text": [
      "['apple', 'dogdog', 'cat', 'dog', 'fish']\n"
     ]
    }
   ],
   "source": [
    "b=['apple','ball','cat','dog','fish']\n",
    "b[1]=b[3]+b[-2]\n",
    "print(b)"
   ]
  },
  {
   "cell_type": "markdown",
   "metadata": {},
   "source": [
    "append(), Insert(), extend()"
   ]
  },
  {
   "cell_type": "code",
   "execution_count": 11,
   "metadata": {},
   "outputs": [
    {
     "name": "stdout",
     "output_type": "stream",
     "text": [
      "['man', 'woman', 'child']\n"
     ]
    }
   ],
   "source": [
    "a=[]\n",
    "a.append('man')\n",
    "a.append('woman')\n",
    "a.append('child')\n",
    "print(a)"
   ]
  },
  {
   "cell_type": "code",
   "execution_count": 15,
   "metadata": {},
   "outputs": [
    {
     "name": "stdout",
     "output_type": "stream",
     "text": [
      "[1]\n",
      "[1, 2]\n",
      "[1, 2, 3]\n",
      "[1, 2, 3, 4]\n",
      "[1, 2, 3, 4, 5]\n",
      "[1, 2, 3, 4, 5, 6]\n",
      "[1, 2, 3, 4, 5, 6, 7]\n",
      "[1, 2, 3, 4, 5, 6, 7, 8]\n",
      "[1, 2, 3, 4, 5, 6, 7, 8, 9]\n",
      "[1, 2, 3, 4, 5, 6, 7, 8, 9, 8]\n"
     ]
    }
   ],
   "source": [
    "a=list()\n",
    "n=int(input(\"enter n:\"))\n",
    "for i in range(n):\n",
    "    x=int(input(\"enter X:\"))\n",
    "    a.append(x)\n",
    "\n",
    "    print(a)"
   ]
  },
  {
   "cell_type": "code",
   "execution_count": 23,
   "metadata": {},
   "outputs": [
    {
     "name": "stdout",
     "output_type": "stream",
     "text": [
      "the max value is: 998\n",
      "the min value is: 45\n",
      "[45, 55, 324, 667, 998]\n",
      "[998, 667, 324, 55, 45]\n"
     ]
    }
   ],
   "source": [
    "a=[324,45,55,667,998]\n",
    "print(\"the max value is:\",max(a))\n",
    "print(\"the min value is:\",min(a))\n",
    "a.sort()    #(puts values in ascending order)\n",
    "print(a)\n",
    "a.reverse()\n",
    "print(a)    #(puts values in descending order)"
   ]
  },
  {
   "cell_type": "code",
   "execution_count": 25,
   "metadata": {},
   "outputs": [
    {
     "name": "stdout",
     "output_type": "stream",
     "text": [
      "['Apple', 'Quill', 'Ray', 'ball', 'dog']\n",
      "['dog', 'ball', 'Ray', 'Quill', 'Apple']\n"
     ]
    }
   ],
   "source": [
    "b=['Apple','ball','Ray','dog','Quill']\n",
    "b.sort()    #(puts values in ascending order)\n",
    "print(b)\n",
    "b.reverse()\n",
    "print(b) "
   ]
  },
  {
   "cell_type": "code",
   "execution_count": 72,
   "metadata": {},
   "outputs": [
    {
     "name": "stdout",
     "output_type": "stream",
     "text": [
      "available 2\n"
     ]
    }
   ],
   "source": [
    "a=['Apple','ball','Ray','dog','Quill','apple']\n",
    "search=input(\"enter search:\")\n",
    "c=0\n",
    "l=len(a)\n",
    "for i in range(l):\n",
    "    if search.lower()==a[i].lower():\n",
    "         c=c+1\n",
    "if c>0:\n",
    "    print(\"available\",c)\n",
    "else:\n",
    "    print(\"not available\")\n",
    "\n",
    "    \n",
    "    "
   ]
  },
  {
   "cell_type": "code",
   "execution_count": 73,
   "metadata": {},
   "outputs": [
    {
     "name": "stdout",
     "output_type": "stream",
     "text": [
      "['Apple', 'ball', 'Ray', 'coke', 'dog', 'Quill', 'apple']\n"
     ]
    }
   ],
   "source": [
    "a=['Apple','ball','Ray','dog','Quill','apple']\n",
    "a.insert(3,'coke')\n",
    "print(a)"
   ]
  },
  {
   "cell_type": "code",
   "execution_count": 10,
   "metadata": {},
   "outputs": [
    {
     "name": "stdout",
     "output_type": "stream",
     "text": [
      "['Apple', 'ball', 'Ray', 'dog', 'Quill', 'apple', 'subash', 'santosh', 'computer']\n"
     ]
    }
   ],
   "source": [
    "a=['Apple','ball','Ray','dog','Quill','apple']\n",
    "b=int(input(\"enter no of items you want to add:\"))\n",
    "c = list()\n",
    "for i in range(b):\n",
    "    x=str(input(\"enter the variables:\"))\n",
    "    \n",
    "    a.append(x)\n",
    "    a.extend(c)\n",
    "\n",
    "\n",
    "print(a)"
   ]
  }
 ],
 "metadata": {
  "kernelspec": {
   "display_name": "Python 3.10.5 64-bit",
   "language": "python",
   "name": "python3"
  },
  "language_info": {
   "codemirror_mode": {
    "name": "ipython",
    "version": 3
   },
   "file_extension": ".py",
   "mimetype": "text/x-python",
   "name": "python",
   "nbconvert_exporter": "python",
   "pygments_lexer": "ipython3",
   "version": "3.10.5"
  },
  "orig_nbformat": 4,
  "vscode": {
   "interpreter": {
    "hash": "76d7c06053c3456e5600312cec90888656fc0ed30c03d8425b9dac6e4fc8e014"
   }
  }
 },
 "nbformat": 4,
 "nbformat_minor": 2
}
