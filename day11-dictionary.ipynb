{
 "cells": [
  {
   "cell_type": "markdown",
   "metadata": {},
   "source": [
    "Dictionary\n",
    "-indexed\n",
    "-ordered\n",
    "-multiple values\n",
    "-mutable\n",
    "\n",
    "\n"
   ]
  },
  {
   "cell_type": "code",
   "execution_count": null,
   "metadata": {},
   "outputs": [],
   "source": [
    "#d={<key>:<value>,<key>:<value>}"
   ]
  },
  {
   "cell_type": "code",
   "execution_count": 3,
   "metadata": {},
   "outputs": [
    {
     "name": "stdout",
     "output_type": "stream",
     "text": [
      "<class 'dict'>\n",
      "{'a': 'apple', 'b': 'shyau', 'c': 'kera'}\n",
      "kera\n"
     ]
    }
   ],
   "source": [
    "d={'a':\"apple\",'b':\"shyau\",'c':\"kera\"}\n",
    "print(type(d))\n",
    "print(d)\n",
    "print(d['c'])"
   ]
  },
  {
   "cell_type": "code",
   "execution_count": 4,
   "metadata": {},
   "outputs": [
    {
     "name": "stdout",
     "output_type": "stream",
     "text": [
      "{'a': 'Apple', 'b': 'ball', 'c': 'cat', 'A': 'Apple'}\n"
     ]
    }
   ],
   "source": [
    "d={'a':\"Apple\",'b':\"ball\",'c':\"cat\",'A':\"Apple\"}\n",
    "print(d)\n"
   ]
  },
  {
   "cell_type": "code",
   "execution_count": 5,
   "metadata": {},
   "outputs": [
    {
     "name": "stdout",
     "output_type": "stream",
     "text": [
      "{'A': 'apple', 'b': 'ball', 'c': 'cat'}\n"
     ]
    }
   ],
   "source": [
    "d={'A':\"Apple\",'b':\"ball\",'c':\"cat\",'A':\"apple\"}\n",
    "print(d) #mutable: meaning value changes"
   ]
  },
  {
   "cell_type": "code",
   "execution_count": 6,
   "metadata": {},
   "outputs": [
    {
     "name": "stdout",
     "output_type": "stream",
     "text": [
      "{'a': 'Apple', 'b': 'Ball', 'c': 'Cat'}\n"
     ]
    }
   ],
   "source": [
    "d=dict()\n",
    "d['a']='Apple'\n",
    "d['b']='Ball'\n",
    "d['c']='Cat'\n",
    "print(d)"
   ]
  },
  {
   "cell_type": "code",
   "execution_count": 15,
   "metadata": {},
   "outputs": [
    {
     "name": "stdout",
     "output_type": "stream",
     "text": [
      "{'subash': '9860933188', 'santosh': '9868053484'}\n"
     ]
    }
   ],
   "source": [
    "d=dict()\n",
    "n=int(input(\"enter n=\"))\n",
    "for i in range(n):\n",
    "    name=input(\"enter name:\")\n",
    "    phone=input(\"enter phone:\")\n",
    "    d[name]=phone\n",
    "\n",
    "print(d)"
   ]
  },
  {
   "cell_type": "code",
   "execution_count": 9,
   "metadata": {},
   "outputs": [
    {
     "name": "stdout",
     "output_type": "stream",
     "text": [
      "subash\n",
      "santosh\n"
     ]
    }
   ],
   "source": [
    "for i in d:\n",
    "    print(i)"
   ]
  },
  {
   "cell_type": "code",
   "execution_count": 16,
   "metadata": {},
   "outputs": [
    {
     "name": "stdout",
     "output_type": "stream",
     "text": [
      "9860933188\n",
      "9868053484\n"
     ]
    }
   ],
   "source": [
    "for i in d.values():\n",
    "    print(i)"
   ]
  },
  {
   "cell_type": "code",
   "execution_count": 17,
   "metadata": {},
   "outputs": [
    {
     "name": "stdout",
     "output_type": "stream",
     "text": [
      "('subash', '9860933188')\n",
      "('santosh', '9868053484')\n"
     ]
    }
   ],
   "source": [
    "for i in d.items():\n",
    "    print(i)"
   ]
  },
  {
   "cell_type": "code",
   "execution_count": 18,
   "metadata": {},
   "outputs": [
    {
     "name": "stdout",
     "output_type": "stream",
     "text": [
      "[('subash', '9860933188'), ('santosh', '9868053484')]\n",
      "{'subash': '9860933188', 'santosh': '9868053484'}\n"
     ]
    }
   ],
   "source": [
    "l=[]\n",
    "for i in d.items():\n",
    "    l.append(i)\n",
    "print(l)\n",
    "print(dict(l))"
   ]
  },
  {
   "cell_type": "code",
   "execution_count": 21,
   "metadata": {},
   "outputs": [
    {
     "name": "stdout",
     "output_type": "stream",
     "text": [
      "{'Ram': 9800000000, 'Shyam': 9855864485}\n"
     ]
    }
   ],
   "source": [
    "\n",
    "d={'Ram':98888855885,'Shyam':9855864485}\n",
    "d['Ram'] = 9800000000\n",
    "\n",
    "print(d)"
   ]
  },
  {
   "cell_type": "code",
   "execution_count": 22,
   "metadata": {},
   "outputs": [
    {
     "name": "stdout",
     "output_type": "stream",
     "text": [
      "{'Shyam': 9855864485}\n"
     ]
    }
   ],
   "source": [
    "#del pop()\n",
    "d={'Ram':98888855885,'Shyam':9855864485}\n",
    "del d['Ram']\n",
    "print(d)"
   ]
  },
  {
   "cell_type": "markdown",
   "metadata": {},
   "source": [
    "OR"
   ]
  },
  {
   "cell_type": "code",
   "execution_count": 20,
   "metadata": {},
   "outputs": [
    {
     "name": "stdout",
     "output_type": "stream",
     "text": [
      "{'Shyam': 9855864485}\n"
     ]
    }
   ],
   "source": [
    "d={'Ram':98888855885,'Shyam':9855864485}\n",
    "d.pop('Ram')\n",
    "print(d)"
   ]
  },
  {
   "cell_type": "code",
   "execution_count": 23,
   "metadata": {},
   "outputs": [
    {
     "name": "stdout",
     "output_type": "stream",
     "text": [
      "{'Ram': [9800007766, 988776654], 'Shyam': [9877665566, 877665889]}\n"
     ]
    }
   ],
   "source": [
    "#list inside dict\n",
    "d={'Ram':[9800007766,988776654],\n",
    "'Shyam':[9877665566,877665889]}\n",
    "print(d)"
   ]
  },
  {
   "cell_type": "code",
   "execution_count": 26,
   "metadata": {},
   "outputs": [
    {
     "name": "stdout",
     "output_type": "stream",
     "text": [
      "{'subash': [9860933188, 9801905652]}\n"
     ]
    }
   ],
   "source": [
    "d={}\n",
    "n=int(input(\"enter n:\"))\n",
    "for i in range(n):\n",
    "    name=input(\"enter name=\")\n",
    "    ntc_no=int(input(\"enter ntc no:\"))\n",
    "    ncell_no=int(input(\"enter ncell no:\"))\n",
    "    d[name]=[ntc_no,ncell_no]\n",
    "print(d)\n"
   ]
  },
  {
   "cell_type": "code",
   "execution_count": 1,
   "metadata": {},
   "outputs": [
    {
     "name": "stdout",
     "output_type": "stream",
     "text": [
      "{'Ram': {'ntc': 9876543234, 'ncell': 9812345678}, 'Shyam': {'ntc': 9867543456, 'ncell': 9812367584}}\n"
     ]
    }
   ],
   "source": [
    "#dict inside dict\n",
    "d={}\n",
    "d['Ram']={'ntc':9876543234,'ncell':9812345678}\n",
    "d['Shyam']={'ntc':9867543456,'ncell':9812367584}\n",
    "print(d)"
   ]
  },
  {
   "cell_type": "code",
   "execution_count": 4,
   "metadata": {},
   "outputs": [
    {
     "name": "stdout",
     "output_type": "stream",
     "text": [
      "{'subash': {'ntc': 9860933188, 'ncell': 9801905652}, 'santosh': {'ntc': 9868056484, 'ncell': 9812345678}}\n"
     ]
    }
   ],
   "source": [
    "d={}\n",
    "n=int(input(\"enter n:\"))\n",
    "for i in range(n):\n",
    "    name=input(\"enter name:\")\n",
    "    ntc_no=int(input(\"enter ntc no:\"))\n",
    "    ncell_no=int(input(\"enter ncell no:\"))\n",
    "    d[name]={'ntc':ntc_no,'ncell':ncell_no}\n",
    "print(d)"
   ]
  }
 ],
 "metadata": {
  "kernelspec": {
   "display_name": "Python 3.10.5 64-bit",
   "language": "python",
   "name": "python3"
  },
  "language_info": {
   "codemirror_mode": {
    "name": "ipython",
    "version": 3
   },
   "file_extension": ".py",
   "mimetype": "text/x-python",
   "name": "python",
   "nbconvert_exporter": "python",
   "pygments_lexer": "ipython3",
   "version": "3.10.5"
  },
  "orig_nbformat": 4,
  "vscode": {
   "interpreter": {
    "hash": "76d7c06053c3456e5600312cec90888656fc0ed30c03d8425b9dac6e4fc8e014"
   }
  }
 },
 "nbformat": 4,
 "nbformat_minor": 2
}
