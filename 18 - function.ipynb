{
 "cells": [
  {
   "cell_type": "code",
   "execution_count": null,
   "metadata": {},
   "outputs": [],
   "source": [
    "#function without arguement and no return type\n",
    "#function with arguement and no return type\n",
    "#function without arguement and return type\n",
    "#function with arguement and return type"
   ]
  },
  {
   "cell_type": "code",
   "execution_count": 2,
   "metadata": {},
   "outputs": [
    {
     "name": "stdout",
     "output_type": "stream",
     "text": [
      "16\n"
     ]
    }
   ],
   "source": [
    "#function with arguemnet and no return type\n",
    "def cal(l,b):        #parameter\n",
    "    a=l*b\n",
    "    print(a)\n",
    "\n",
    "l=8\n",
    "b=2\n",
    "cal(l,b)            #arguement"
   ]
  },
  {
   "cell_type": "code",
   "execution_count": 2,
   "metadata": {},
   "outputs": [
    {
     "name": "stdout",
     "output_type": "stream",
     "text": [
      "Hello my name is Subash Shrestha. I am from Kathmandu. I am 23 years old.\n"
     ]
    }
   ],
   "source": [
    "#function with arguement and no return type\n",
    "def info(name,age,address):\n",
    "    x=f\"Hello my name is {name}. I am from {address}. I am {age} years old.\"\n",
    "    print(x)\n",
    "\n",
    "name=input(\"enter name:\")\n",
    "age=int(input(\"enter age:\"))\n",
    "address=input(\"enter address:\")\n",
    "\n",
    "info(name,age,address)"
   ]
  },
  {
   "cell_type": "code",
   "execution_count": 3,
   "metadata": {},
   "outputs": [
    {
     "name": "stdout",
     "output_type": "stream",
     "text": [
      "C\n",
      "C++\n",
      "C#\n",
      "Java\n",
      "Ruby\n",
      "Python\n"
     ]
    }
   ],
   "source": [
    "def info (language=\"Python\"):\n",
    "    print(language)\n",
    "\n",
    "info(\"C\")\n",
    "info(\"C++\")\n",
    "info(\"C#\")\n",
    "info(\"Java\")\n",
    "info(\"Ruby\")\n",
    "info()"
   ]
  },
  {
   "cell_type": "code",
   "execution_count": 4,
   "metadata": {},
   "outputs": [
    {
     "name": "stdout",
     "output_type": "stream",
     "text": [
      "('Hello', 'World')\n"
     ]
    }
   ],
   "source": [
    "#function with arguement and return type\n",
    "\n",
    "def hello():\n",
    "    x=\"Hello\"\n",
    "    y=\"World\"\n",
    "    return x,y\n",
    "\n",
    "a = hello()\n",
    "print (a)"
   ]
  },
  {
   "cell_type": "code",
   "execution_count": 5,
   "metadata": {},
   "outputs": [
    {
     "name": "stdout",
     "output_type": "stream",
     "text": [
      "The area: 276\n",
      "The volume: 6072\n"
     ]
    }
   ],
   "source": [
    "def cal():\n",
    "    l=int(input(\"enter length:\"))\n",
    "    b=int(input(\"enter breadth:\"))\n",
    "    h=int(input(\"enter height:\"))\n",
    "\n",
    "    a=l*b\n",
    "    v=a*h\n",
    "    return a,v\n",
    "\n",
    "area,volume = cal()\n",
    "print (\"The area:\",area)\n",
    "print(\"The volume:\",volume)"
   ]
  },
  {
   "cell_type": "code",
   "execution_count": 8,
   "metadata": {},
   "outputs": [
    {
     "name": "stdout",
     "output_type": "stream",
     "text": [
      "The area: 276\n",
      "The volume: 9108\n"
     ]
    }
   ],
   "source": [
    "def cal(l,b,h):\n",
    "    a=l*b\n",
    "    v=a*h\n",
    "    return a,v\n",
    "\n",
    "l=int(input(\"enter length:\"))\n",
    "b=int(input(\"enter breadth:\"))\n",
    "h=int(input(\"enter height:\"))\n",
    "\n",
    "\n",
    "area,volume = cal(l,b,h)\n",
    "print (\"The area:\",area)\n",
    "print(\"The volume:\",volume)"
   ]
  },
  {
   "cell_type": "code",
   "execution_count": 9,
   "metadata": {},
   "outputs": [
    {
     "ename": "",
     "evalue": "",
     "output_type": "error",
     "traceback": [
      "\u001b[1;31mCanceled future for execute_request message before replies were done"
     ]
    },
    {
     "ename": "",
     "evalue": "",
     "output_type": "error",
     "traceback": [
      "\u001b[1;31mThe Kernel crashed while executing code in the the current cell or a previous cell. Please review the code in the cell(s) to identify a possible cause of the failure. Click <a href='https://aka.ms/vscodeJupyterKernelCrash'>here</a> for more info. View Jupyter <a href='command:jupyter.viewOutput'>log</a> for further details."
     ]
    }
   ],
   "source": [
    "def hello():\n",
    "    print(\"Hello World\")\n",
    "    hello()\n",
    "\n",
    "hello()"
   ]
  },
  {
   "cell_type": "code",
   "execution_count": 3,
   "metadata": {},
   "outputs": [
    {
     "name": "stdout",
     "output_type": "stream",
     "text": [
      "Hello World\n",
      "Hello World\n",
      "Hello World\n",
      "Hello World\n",
      "Hello World\n",
      "Hello World\n",
      "Hello World\n",
      "Hello World\n",
      "Hello World\n",
      "Hello World\n",
      "Hello World\n",
      "Hello World\n",
      "Hello World\n",
      "Hello World\n",
      "Hello World\n",
      "Hello World\n",
      "Hello World\n",
      "Hello World\n",
      "Hello World\n",
      "Hello World\n",
      "Hello World\n",
      "Hello World\n",
      "Hello World\n",
      "Hello World\n",
      "Hello World\n",
      "Hello World\n",
      "Hello World\n",
      "Hello World\n",
      "Hello World\n"
     ]
    }
   ],
   "source": [
    "def hello():\n",
    "    print(\"Hello World\")\n",
    "    x = input(\"Enter y for more print:\")\n",
    "    if x=='y':\n",
    "        hello()\n",
    "\n",
    "hello()"
   ]
  },
  {
   "cell_type": "code",
   "execution_count": 3,
   "metadata": {},
   "outputs": [
    {
     "name": "stdout",
     "output_type": "stream",
     "text": [
      "0.06\n"
     ]
    }
   ],
   "source": [
    "def hello():\n",
    "    p = int(input(\"enter p:\"))\n",
    "    t = int(input(\"enter t:\"))\n",
    "    r = int(input(\"enter r:\"))\n",
    "    i = p*t*r/100\n",
    "    print(i)\n",
    "    \n",
    "    x = input(\"enter y for more print:\")\n",
    "    if x=='y':\n",
    "        hello()\n",
    "\n",
    "hello()"
   ]
  },
  {
   "cell_type": "code",
   "execution_count": null,
   "metadata": {},
   "outputs": [],
   "source": []
  }
 ],
 "metadata": {
  "kernelspec": {
   "display_name": "Python 3.10.5 64-bit",
   "language": "python",
   "name": "python3"
  },
  "language_info": {
   "codemirror_mode": {
    "name": "ipython",
    "version": 3
   },
   "file_extension": ".py",
   "mimetype": "text/x-python",
   "name": "python",
   "nbconvert_exporter": "python",
   "pygments_lexer": "ipython3",
   "version": "3.10.5"
  },
  "orig_nbformat": 4,
  "vscode": {
   "interpreter": {
    "hash": "76d7c06053c3456e5600312cec90888656fc0ed30c03d8425b9dac6e4fc8e014"
   }
  }
 },
 "nbformat": 4,
 "nbformat_minor": 2
}
