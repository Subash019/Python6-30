{
 "cells": [
  {
   "cell_type": "code",
   "execution_count": 1,
   "metadata": {},
   "outputs": [
    {
     "name": "stdout",
     "output_type": "stream",
     "text": [
      "Hello\n"
     ]
    }
   ],
   "source": [
    "class Hello:\n",
    "    print(\"Hello\")\n",
    "obj = Hello()"
   ]
  },
  {
   "cell_type": "code",
   "execution_count": 2,
   "metadata": {},
   "outputs": [
    {
     "name": "stdout",
     "output_type": "stream",
     "text": [
      "Hello World\n"
     ]
    }
   ],
   "source": [
    "class Hello:\n",
    "    @staticmethod\n",
    "    def hello():\n",
    "        print(\"Hello World\")\n",
    "\n",
    "obj = Hello()\n",
    "obj.hello()"
   ]
  },
  {
   "cell_type": "code",
   "execution_count": 3,
   "metadata": {},
   "outputs": [
    {
     "name": "stdout",
     "output_type": "stream",
     "text": [
      "Hello World\n"
     ]
    }
   ],
   "source": [
    "class Hello:\n",
    "    def hello(self):\n",
    "        print(\"Hello World\")\n",
    "\n",
    "obj = Hello()\n",
    "obj.hello()"
   ]
  },
  {
   "cell_type": "code",
   "execution_count": 4,
   "metadata": {},
   "outputs": [
    {
     "name": "stdout",
     "output_type": "stream",
     "text": [
      "50\n",
      "100\n"
     ]
    }
   ],
   "source": [
    "class Cal:\n",
    "    def area(self,l,b):\n",
    "        a=l*b\n",
    "        print(a)\n",
    "    def volume(self,l,b,h):\n",
    "        v=l*b*h \n",
    "        print(v)\n",
    "\n",
    "obj = Cal()\n",
    "obj.area(10,5)\n",
    "obj.volume(10,5,2)"
   ]
  },
  {
   "cell_type": "code",
   "execution_count": 6,
   "metadata": {},
   "outputs": [
    {
     "name": "stdout",
     "output_type": "stream",
     "text": [
      "Area: 276\n",
      "Volume: 45408\n"
     ]
    }
   ],
   "source": [
    "class Cal:\n",
    "    def area(self):\n",
    "        l = int(input(\"enter length:\"))\n",
    "        b = int(input(\"enter breadth:\"))\n",
    "        a=l*b\n",
    "        print(\"Area:\",a)\n",
    "    def volume(self):\n",
    "        l = int(input(\"enter length:\"))\n",
    "        b = int(input(\"enter breadth:\"))\n",
    "        h = int(input(\"enter height:\"))\n",
    "        v=l*b*h \n",
    "        print(\"Volume:\",v)\n",
    "\n",
    "obj = Cal()\n",
    "obj.area()\n",
    "obj.volume()"
   ]
  },
  {
   "cell_type": "code",
   "execution_count": 13,
   "metadata": {},
   "outputs": [
    {
     "name": "stdout",
     "output_type": "stream",
     "text": [
      "50\n",
      "100\n"
     ]
    }
   ],
   "source": [
    "#__init__() method\n",
    "class Cal:\n",
    "    def __init__(self,l,b,h):\n",
    "        self.l = l\n",
    "        self.b = b\n",
    "        self.h = h\n",
    "    def area(self):\n",
    "        a=self.l*self.b\n",
    "        print(a)\n",
    "    def volume(self):\n",
    "        v=self.l*self.b*self.h \n",
    "        print(v)\n",
    "\n",
    "obj = Cal(10,5,2)\n",
    "obj.area()\n",
    "obj.volume()"
   ]
  },
  {
   "cell_type": "code",
   "execution_count": 14,
   "metadata": {},
   "outputs": [
    {
     "name": "stdout",
     "output_type": "stream",
     "text": [
      "529\n",
      "17986\n"
     ]
    }
   ],
   "source": [
    "class Area:\n",
    "    def __init__(self):\n",
    "        self.l = int(input(\"enter length:\"))\n",
    "        self.b = int(input(\"enter breadth:\"))\n",
    "    def area(self):\n",
    "        a=self.l*self.b\n",
    "        print(a)\n",
    "\n",
    "class Volume:\n",
    "    def __init__(self):\n",
    "        self.l = int(input(\"enter length:\"))\n",
    "        self.b = int(input(\"enter breadth:\"))\n",
    "        self.h = int(input(\"enter height:\"))\n",
    "    def volume(this):\n",
    "        v=this.l*this.b*this.h \n",
    "        print(v)\n",
    "obj1 = Area()\n",
    "obj2 = Volume()\n",
    "\n",
    "obj1.area()\n",
    "obj2.volume()"
   ]
  },
  {
   "cell_type": "code",
   "execution_count": 15,
   "metadata": {},
   "outputs": [
    {
     "name": "stdout",
     "output_type": "stream",
     "text": [
      "50\n",
      "100\n"
     ]
    }
   ],
   "source": [
    "class Area:\n",
    "    def __init__(self,l,b):\n",
    "        self.l = l\n",
    "        self.b = b\n",
    "    def area(self):\n",
    "        a=self.l*self.b\n",
    "        print(a)\n",
    "\n",
    "class Volume:\n",
    "    def __init__(self,l,b,h):\n",
    "        self.l = l\n",
    "        self.b = b\n",
    "        self.h = h\n",
    "    def volume(this):\n",
    "        v=this.l*this.b*this.h \n",
    "        print(v)\n",
    "obj1 = Area(10,5)\n",
    "obj2 = Volume(10,5,2)\n",
    "\n",
    "obj1.area()\n",
    "obj2.volume()"
   ]
  },
  {
   "cell_type": "code",
   "execution_count": 22,
   "metadata": {},
   "outputs": [
    {
     "name": "stdout",
     "output_type": "stream",
     "text": [
      "<class 'str'>\n",
      "<__main__.Info object at 0x00000228B0272770>\n",
      "Hello World, my name is Subash. I am from Kathmandu. I am 23 years old.\n",
      "<__main__.Info object at 0x00000228B0272770>\n",
      "<__main__.Info object at 0x00000228B0272770>\n",
      "<__main__.Info object at 0x00000228B0272770>\n"
     ]
    }
   ],
   "source": [
    "class Info:\n",
    "    def __init__(self,name,age,add):\n",
    "        self.name = name\n",
    "        self.age = age\n",
    "        self.add = add\n",
    "\n",
    "    def information(self):\n",
    "        data = f\"Hello World, my name is {self.name}. I am from {self.add}. I am {self.age} years old.\"\n",
    "        return data\n",
    "\n",
    "obj = Info(\"Subash\",23,\"Kathmandu\")\n",
    "print (type(obj.information()))\n",
    "print(obj)\n",
    "\n",
    "print(obj.information())\n",
    "print(obj)\n",
    "print(obj.__str__())\n",
    "print(str(obj))"
   ]
  },
  {
   "cell_type": "code",
   "execution_count": null,
   "metadata": {},
   "outputs": [],
   "source": []
  }
 ],
 "metadata": {
  "kernelspec": {
   "display_name": "Python 3.10.5 64-bit",
   "language": "python",
   "name": "python3"
  },
  "language_info": {
   "codemirror_mode": {
    "name": "ipython",
    "version": 3
   },
   "file_extension": ".py",
   "mimetype": "text/x-python",
   "name": "python",
   "nbconvert_exporter": "python",
   "pygments_lexer": "ipython3",
   "version": "3.10.5"
  },
  "orig_nbformat": 4,
  "vscode": {
   "interpreter": {
    "hash": "76d7c06053c3456e5600312cec90888656fc0ed30c03d8425b9dac6e4fc8e014"
   }
  }
 },
 "nbformat": 4,
 "nbformat_minor": 2
}
